{
  "cells": [
    {
      "cell_type": "code",
      "execution_count": 1,
      "metadata": {
        "colab": {
          "base_uri": "https://localhost:8080/"
        },
        "id": "SGbX8AGPADly",
        "outputId": "d0e96e28-7e20-466b-d352-61bab717cb8a"
      },
      "outputs": [
        {
          "name": "stdout",
          "output_type": "stream",
          "text": [
            "Requirement already satisfied: pyspark in /home/ouyassine/Documents/projects/data_engineering_1/venv/lib/python3.12/site-packages (3.5.2)\n",
            "Requirement already satisfied: py4j==0.10.9.7 in /home/ouyassine/Documents/projects/data_engineering_1/venv/lib/python3.12/site-packages (from pyspark) (0.10.9.7)\n",
            "Note: you may need to restart the kernel to use updated packages.\n",
            "Requirement already satisfied: spark-nlp in /home/ouyassine/Documents/projects/data_engineering_1/venv/lib/python3.12/site-packages (5.4.2)\n",
            "Note: you may need to restart the kernel to use updated packages.\n",
            "Requirement already satisfied: nltk in /home/ouyassine/Documents/projects/data_engineering_1/venv/lib/python3.12/site-packages (3.9.1)\n",
            "Requirement already satisfied: click in /home/ouyassine/Documents/projects/data_engineering_1/venv/lib/python3.12/site-packages (from nltk) (8.1.7)\n",
            "Requirement already satisfied: joblib in /home/ouyassine/Documents/projects/data_engineering_1/venv/lib/python3.12/site-packages (from nltk) (1.4.2)\n",
            "Requirement already satisfied: regex>=2021.8.3 in /home/ouyassine/Documents/projects/data_engineering_1/venv/lib/python3.12/site-packages (from nltk) (2024.9.11)\n",
            "Requirement already satisfied: tqdm in /home/ouyassine/Documents/projects/data_engineering_1/venv/lib/python3.12/site-packages (from nltk) (4.66.5)\n",
            "Note: you may need to restart the kernel to use updated packages.\n"
          ]
        }
      ],
      "source": [
        "%pip install pyspark\n",
        "%pip install spark-nlp\n",
        "%pip install nltk"
      ]
    },
    {
      "cell_type": "code",
      "execution_count": 2,
      "metadata": {
        "id": "V0_63y5xI8hn"
      },
      "outputs": [
        {
          "name": "stderr",
          "output_type": "stream",
          "text": [
            "24/09/24 13:18:57 WARN Utils: Your hostname, ouyassine-ThinkPad-L14-Gen-1 resolves to a loopback address: 127.0.1.1; using 192.168.8.145 instead (on interface wlp3s0)\n",
            "24/09/24 13:18:57 WARN Utils: Set SPARK_LOCAL_IP if you need to bind to another address\n"
          ]
        },
        {
          "name": "stdout",
          "output_type": "stream",
          "text": [
            ":: loading settings :: url = jar:file:/home/ouyassine/Documents/projects/data_engineering_1/venv/lib/python3.12/site-packages/pyspark/jars/ivy-2.5.1.jar!/org/apache/ivy/core/settings/ivysettings.xml\n"
          ]
        },
        {
          "name": "stderr",
          "output_type": "stream",
          "text": [
            "Ivy Default Cache set to: /home/ouyassine/.ivy2/cache\n",
            "The jars for the packages stored in: /home/ouyassine/.ivy2/jars\n",
            "com.johnsnowlabs.nlp#spark-nlp_2.12 added as a dependency\n",
            ":: resolving dependencies :: org.apache.spark#spark-submit-parent-af13712c-07b6-4d65-8e91-ce8712297bf3;1.0\n",
            "\tconfs: [default]\n",
            "\tfound com.johnsnowlabs.nlp#spark-nlp_2.12;5.4.2 in central\n",
            "\tfound com.typesafe#config;1.4.2 in central\n",
            "\tfound org.rocksdb#rocksdbjni;6.29.5 in central\n",
            "\tfound com.amazonaws#aws-java-sdk-s3;1.12.500 in central\n",
            "\tfound com.amazonaws#aws-java-sdk-kms;1.12.500 in central\n",
            "\tfound com.amazonaws#aws-java-sdk-core;1.12.500 in central\n",
            "\tfound commons-logging#commons-logging;1.1.3 in central\n",
            "\tfound commons-codec#commons-codec;1.15 in central\n",
            "\tfound org.apache.httpcomponents#httpclient;4.5.13 in central\n",
            "\tfound org.apache.httpcomponents#httpcore;4.4.13 in central\n",
            "\tfound software.amazon.ion#ion-java;1.0.2 in central\n",
            "\tfound joda-time#joda-time;2.8.1 in central\n",
            "\tfound com.amazonaws#jmespath-java;1.12.500 in central\n",
            "\tfound com.github.universal-automata#liblevenshtein;3.0.0 in central\n",
            "\tfound com.google.protobuf#protobuf-java-util;3.0.0-beta-3 in central\n",
            "\tfound com.google.protobuf#protobuf-java;3.0.0-beta-3 in central\n",
            "\tfound com.google.code.gson#gson;2.3 in central\n",
            "\tfound it.unimi.dsi#fastutil;7.0.12 in central\n",
            "\tfound org.projectlombok#lombok;1.16.8 in central\n",
            "\tfound com.google.cloud#google-cloud-storage;2.20.1 in central\n",
            "\tfound com.google.guava#guava;31.1-jre in central\n",
            "\tfound com.google.guava#failureaccess;1.0.1 in central\n",
            "\tfound com.google.guava#listenablefuture;9999.0-empty-to-avoid-conflict-with-guava in central\n",
            "\tfound com.google.errorprone#error_prone_annotations;2.18.0 in central\n",
            "\tfound com.google.j2objc#j2objc-annotations;1.3 in central\n",
            "\tfound com.google.http-client#google-http-client;1.43.0 in central\n",
            "\tfound io.opencensus#opencensus-contrib-http-util;0.31.1 in central\n",
            "\tfound com.google.http-client#google-http-client-jackson2;1.43.0 in central\n",
            "\tfound com.google.http-client#google-http-client-gson;1.43.0 in central\n",
            "\tfound com.google.api-client#google-api-client;2.2.0 in central\n",
            "\tfound com.google.oauth-client#google-oauth-client;1.34.1 in central\n",
            "\tfound com.google.http-client#google-http-client-apache-v2;1.43.0 in central\n",
            "\tfound com.google.apis#google-api-services-storage;v1-rev20220705-2.0.0 in central\n",
            "\tfound com.google.code.gson#gson;2.10.1 in central\n",
            "\tfound com.google.cloud#google-cloud-core;2.12.0 in central\n",
            "\tfound io.grpc#grpc-context;1.53.0 in central\n",
            "\tfound com.google.auto.value#auto-value-annotations;1.10.1 in central\n",
            "\tfound com.google.auto.value#auto-value;1.10.1 in central\n",
            "\tfound javax.annotation#javax.annotation-api;1.3.2 in central\n",
            "\tfound com.google.cloud#google-cloud-core-http;2.12.0 in central\n",
            "\tfound com.google.http-client#google-http-client-appengine;1.43.0 in central\n",
            "\tfound com.google.api#gax-httpjson;0.108.2 in central\n",
            "\tfound com.google.cloud#google-cloud-core-grpc;2.12.0 in central\n",
            "\tfound io.grpc#grpc-alts;1.53.0 in central\n",
            "\tfound io.grpc#grpc-grpclb;1.53.0 in central\n",
            "\tfound org.conscrypt#conscrypt-openjdk-uber;2.5.2 in central\n",
            "\tfound io.grpc#grpc-auth;1.53.0 in central\n",
            "\tfound io.grpc#grpc-protobuf;1.53.0 in central\n",
            "\tfound io.grpc#grpc-protobuf-lite;1.53.0 in central\n",
            "\tfound io.grpc#grpc-core;1.53.0 in central\n",
            "\tfound com.google.api#gax;2.23.2 in central\n",
            "\tfound com.google.api#gax-grpc;2.23.2 in central\n",
            "\tfound com.google.auth#google-auth-library-credentials;1.16.0 in central\n",
            "\tfound com.google.auth#google-auth-library-oauth2-http;1.16.0 in central\n",
            "\tfound com.google.api#api-common;2.6.2 in central\n",
            "\tfound io.opencensus#opencensus-api;0.31.1 in central\n",
            "\tfound com.google.api.grpc#proto-google-iam-v1;1.9.2 in central\n",
            "\tfound com.google.protobuf#protobuf-java;3.21.12 in central\n",
            "\tfound com.google.protobuf#protobuf-java-util;3.21.12 in central\n",
            "\tfound com.google.api.grpc#proto-google-common-protos;2.14.2 in central\n",
            "\tfound org.threeten#threetenbp;1.6.5 in central\n",
            "\tfound com.google.api.grpc#proto-google-cloud-storage-v2;2.20.1-alpha in central\n",
            "\tfound com.google.api.grpc#grpc-google-cloud-storage-v2;2.20.1-alpha in central\n",
            "\tfound com.google.api.grpc#gapic-google-cloud-storage-v2;2.20.1-alpha in central\n",
            "\tfound com.google.code.findbugs#jsr305;3.0.2 in central\n",
            "\tfound io.grpc#grpc-api;1.53.0 in central\n",
            "\tfound io.grpc#grpc-stub;1.53.0 in central\n",
            "\tfound org.checkerframework#checker-qual;3.31.0 in central\n",
            "\tfound io.perfmark#perfmark-api;0.26.0 in central\n",
            "\tfound com.google.android#annotations;4.1.1.4 in central\n",
            "\tfound org.codehaus.mojo#animal-sniffer-annotations;1.22 in central\n",
            "\tfound io.opencensus#opencensus-proto;0.2.0 in central\n",
            "\tfound io.grpc#grpc-services;1.53.0 in central\n",
            "\tfound com.google.re2j#re2j;1.6 in central\n",
            "\tfound io.grpc#grpc-netty-shaded;1.53.0 in central\n",
            "\tfound io.grpc#grpc-googleapis;1.53.0 in central\n",
            "\tfound io.grpc#grpc-xds;1.53.0 in central\n",
            "\tfound com.navigamez#greex;1.0 in central\n",
            "\tfound dk.brics.automaton#automaton;1.11-8 in central\n",
            "\tfound com.johnsnowlabs.nlp#tensorflow-cpu_2.12;0.4.4 in central\n",
            "\tfound com.microsoft.onnxruntime#onnxruntime;1.18.0 in central\n",
            "\tfound com.johnsnowlabs.nlp#jsl-openvino-cpu_2.12;0.1.0 in central\n",
            ":: resolution report :: resolve 1665ms :: artifacts dl 129ms\n",
            "\t:: modules in use:\n",
            "\tcom.amazonaws#aws-java-sdk-core;1.12.500 from central in [default]\n",
            "\tcom.amazonaws#aws-java-sdk-kms;1.12.500 from central in [default]\n",
            "\tcom.amazonaws#aws-java-sdk-s3;1.12.500 from central in [default]\n",
            "\tcom.amazonaws#jmespath-java;1.12.500 from central in [default]\n",
            "\tcom.github.universal-automata#liblevenshtein;3.0.0 from central in [default]\n",
            "\tcom.google.android#annotations;4.1.1.4 from central in [default]\n",
            "\tcom.google.api#api-common;2.6.2 from central in [default]\n",
            "\tcom.google.api#gax;2.23.2 from central in [default]\n",
            "\tcom.google.api#gax-grpc;2.23.2 from central in [default]\n",
            "\tcom.google.api#gax-httpjson;0.108.2 from central in [default]\n",
            "\tcom.google.api-client#google-api-client;2.2.0 from central in [default]\n",
            "\tcom.google.api.grpc#gapic-google-cloud-storage-v2;2.20.1-alpha from central in [default]\n",
            "\tcom.google.api.grpc#grpc-google-cloud-storage-v2;2.20.1-alpha from central in [default]\n",
            "\tcom.google.api.grpc#proto-google-cloud-storage-v2;2.20.1-alpha from central in [default]\n",
            "\tcom.google.api.grpc#proto-google-common-protos;2.14.2 from central in [default]\n",
            "\tcom.google.api.grpc#proto-google-iam-v1;1.9.2 from central in [default]\n",
            "\tcom.google.apis#google-api-services-storage;v1-rev20220705-2.0.0 from central in [default]\n",
            "\tcom.google.auth#google-auth-library-credentials;1.16.0 from central in [default]\n",
            "\tcom.google.auth#google-auth-library-oauth2-http;1.16.0 from central in [default]\n",
            "\tcom.google.auto.value#auto-value;1.10.1 from central in [default]\n",
            "\tcom.google.auto.value#auto-value-annotations;1.10.1 from central in [default]\n",
            "\tcom.google.cloud#google-cloud-core;2.12.0 from central in [default]\n",
            "\tcom.google.cloud#google-cloud-core-grpc;2.12.0 from central in [default]\n",
            "\tcom.google.cloud#google-cloud-core-http;2.12.0 from central in [default]\n",
            "\tcom.google.cloud#google-cloud-storage;2.20.1 from central in [default]\n",
            "\tcom.google.code.findbugs#jsr305;3.0.2 from central in [default]\n",
            "\tcom.google.code.gson#gson;2.10.1 from central in [default]\n",
            "\tcom.google.errorprone#error_prone_annotations;2.18.0 from central in [default]\n",
            "\tcom.google.guava#failureaccess;1.0.1 from central in [default]\n",
            "\tcom.google.guava#guava;31.1-jre from central in [default]\n",
            "\tcom.google.guava#listenablefuture;9999.0-empty-to-avoid-conflict-with-guava from central in [default]\n",
            "\tcom.google.http-client#google-http-client;1.43.0 from central in [default]\n",
            "\tcom.google.http-client#google-http-client-apache-v2;1.43.0 from central in [default]\n",
            "\tcom.google.http-client#google-http-client-appengine;1.43.0 from central in [default]\n",
            "\tcom.google.http-client#google-http-client-gson;1.43.0 from central in [default]\n",
            "\tcom.google.http-client#google-http-client-jackson2;1.43.0 from central in [default]\n",
            "\tcom.google.j2objc#j2objc-annotations;1.3 from central in [default]\n",
            "\tcom.google.oauth-client#google-oauth-client;1.34.1 from central in [default]\n",
            "\tcom.google.protobuf#protobuf-java;3.21.12 from central in [default]\n",
            "\tcom.google.protobuf#protobuf-java-util;3.21.12 from central in [default]\n",
            "\tcom.google.re2j#re2j;1.6 from central in [default]\n",
            "\tcom.johnsnowlabs.nlp#jsl-openvino-cpu_2.12;0.1.0 from central in [default]\n",
            "\tcom.johnsnowlabs.nlp#spark-nlp_2.12;5.4.2 from central in [default]\n",
            "\tcom.johnsnowlabs.nlp#tensorflow-cpu_2.12;0.4.4 from central in [default]\n",
            "\tcom.microsoft.onnxruntime#onnxruntime;1.18.0 from central in [default]\n",
            "\tcom.navigamez#greex;1.0 from central in [default]\n",
            "\tcom.typesafe#config;1.4.2 from central in [default]\n",
            "\tcommons-codec#commons-codec;1.15 from central in [default]\n",
            "\tcommons-logging#commons-logging;1.1.3 from central in [default]\n",
            "\tdk.brics.automaton#automaton;1.11-8 from central in [default]\n",
            "\tio.grpc#grpc-alts;1.53.0 from central in [default]\n",
            "\tio.grpc#grpc-api;1.53.0 from central in [default]\n",
            "\tio.grpc#grpc-auth;1.53.0 from central in [default]\n",
            "\tio.grpc#grpc-context;1.53.0 from central in [default]\n",
            "\tio.grpc#grpc-core;1.53.0 from central in [default]\n",
            "\tio.grpc#grpc-googleapis;1.53.0 from central in [default]\n",
            "\tio.grpc#grpc-grpclb;1.53.0 from central in [default]\n",
            "\tio.grpc#grpc-netty-shaded;1.53.0 from central in [default]\n",
            "\tio.grpc#grpc-protobuf;1.53.0 from central in [default]\n",
            "\tio.grpc#grpc-protobuf-lite;1.53.0 from central in [default]\n",
            "\tio.grpc#grpc-services;1.53.0 from central in [default]\n",
            "\tio.grpc#grpc-stub;1.53.0 from central in [default]\n",
            "\tio.grpc#grpc-xds;1.53.0 from central in [default]\n",
            "\tio.opencensus#opencensus-api;0.31.1 from central in [default]\n",
            "\tio.opencensus#opencensus-contrib-http-util;0.31.1 from central in [default]\n",
            "\tio.opencensus#opencensus-proto;0.2.0 from central in [default]\n",
            "\tio.perfmark#perfmark-api;0.26.0 from central in [default]\n",
            "\tit.unimi.dsi#fastutil;7.0.12 from central in [default]\n",
            "\tjavax.annotation#javax.annotation-api;1.3.2 from central in [default]\n",
            "\tjoda-time#joda-time;2.8.1 from central in [default]\n",
            "\torg.apache.httpcomponents#httpclient;4.5.13 from central in [default]\n",
            "\torg.apache.httpcomponents#httpcore;4.4.13 from central in [default]\n",
            "\torg.checkerframework#checker-qual;3.31.0 from central in [default]\n",
            "\torg.codehaus.mojo#animal-sniffer-annotations;1.22 from central in [default]\n",
            "\torg.conscrypt#conscrypt-openjdk-uber;2.5.2 from central in [default]\n",
            "\torg.projectlombok#lombok;1.16.8 from central in [default]\n",
            "\torg.rocksdb#rocksdbjni;6.29.5 from central in [default]\n",
            "\torg.threeten#threetenbp;1.6.5 from central in [default]\n",
            "\tsoftware.amazon.ion#ion-java;1.0.2 from central in [default]\n",
            "\t:: evicted modules:\n",
            "\tcommons-logging#commons-logging;1.2 by [commons-logging#commons-logging;1.1.3] in [default]\n",
            "\tcommons-codec#commons-codec;1.11 by [commons-codec#commons-codec;1.15] in [default]\n",
            "\tcom.google.protobuf#protobuf-java-util;3.0.0-beta-3 by [com.google.protobuf#protobuf-java-util;3.21.12] in [default]\n",
            "\tcom.google.protobuf#protobuf-java;3.0.0-beta-3 by [com.google.protobuf#protobuf-java;3.21.12] in [default]\n",
            "\tcom.google.code.gson#gson;2.3 by [com.google.code.gson#gson;2.10.1] in [default]\n",
            "\t---------------------------------------------------------------------\n",
            "\t|                  |            modules            ||   artifacts   |\n",
            "\t|       conf       | number| search|dwnlded|evicted|| number|dwnlded|\n",
            "\t---------------------------------------------------------------------\n",
            "\t|      default     |   84  |   0   |   0   |   5   ||   79  |   0   |\n",
            "\t---------------------------------------------------------------------\n",
            ":: retrieving :: org.apache.spark#spark-submit-parent-af13712c-07b6-4d65-8e91-ce8712297bf3\n",
            "\tconfs: [default]\n",
            "\t0 artifacts copied, 79 already retrieved (0kB/26ms)\n",
            "24/09/24 13:19:00 WARN NativeCodeLoader: Unable to load native-hadoop library for your platform... using builtin-java classes where applicable\n",
            "Setting default log level to \"WARN\".\n",
            "To adjust logging level use sc.setLogLevel(newLevel). For SparkR, use setLogLevel(newLevel).\n"
          ]
        }
      ],
      "source": [
        "import sparknlp\n",
        "from pyspark.sql import SparkSession\n",
        "\n",
        "# Check if a SparkSession is already active\n",
        "if 'spark' not in globals() or not isinstance(spark, SparkSession):\n",
        "    # start the spark nlp session\n",
        "    spark = sparknlp.start()\n",
        "else:\n",
        "    print(\"SparkSession is already active.\")"
      ]
    },
    {
      "cell_type": "code",
      "execution_count": 3,
      "metadata": {
        "colab": {
          "base_uri": "https://localhost:8080/"
        },
        "id": "t1oCuHlmJNQn",
        "outputId": "b99af682-d331-4947-a56e-94eaaeb97a1b"
      },
      "outputs": [
        {
          "name": "stderr",
          "output_type": "stream",
          "text": [
            "                                                                                \r"
          ]
        },
        {
          "name": "stdout",
          "output_type": "stream",
          "text": [
            "+-------------------------------------------------------------------------------------------+---------+\n",
            "|title                                                                                      |topic    |\n",
            "+-------------------------------------------------------------------------------------------+---------+\n",
            "|تنسيق أمني يطيح بمغتصب قاصر احتجزها بالعنف بالدار البيضاء                                  |divers   |\n",
            "|الريش..توقيف “شاب متطرف” كان يعتزم تنفيذ مخططات إرهابية                                    |politique|\n",
            "|القنيطرة..تنسيق أمني يطيح بشخصين بحوزتهما أقراص مهلوسة وكوكايين                            |divers   |\n",
            "|تنسيق أمني يطيح بمغتصب قاصر احتجزها بالعنف بالدار البيضاء                                  |divers   |\n",
            "|الريش..توقيف “شاب متطرف” كان يعتزم تنفيذ مخططات إرهابية                                    |economie |\n",
            "|“أخنوش” يصل إلى بكين لحضور قمة منتدى التعاون الصيني الإفريقي                               |politique|\n",
            "|تقرير أمريكي يشير أن المغرب “يشجع ويسهل” بشكل فاعل تدفق الاستثمارات الأجنبية               |economie |\n",
            "|أخنوش یترأس اجتماعا للجنة قیادة البرنامج الوطني للتزوید بالماء الشروب ومیاه السقي 2020-2027|economie |\n",
            "|السويد تحاكم شخصين بتهمة حرق نسخة من القرآن الكريم                                         |politique|\n",
            "|القنيطرة..توقيف شخص اعتدى بمعية شقيقه بالسلاح الأبيض على زبون محلبة                        |divers   |\n",
            "|القبض على شخصين من أجل الاتجار في الأقراص المهلوسة بالرباط                                 |divers   |\n",
            "|تنسيق أمني يطيح بشخصين أحدهما فرنسي تورطها في اختطاف واحتجاز بلجيكية                       |divers   |\n",
            "|ارتفاع أسعار النفط 3 بالمئة جراء مخاوف التصعيد بالشرق الأوسط                               |economie |\n",
            "|القبض على شخصين من أجل الاتجار في الأقراص المهلوسة بالرباط                                 |politique|\n",
            "|التعادل ينهي مباراتي الكوديم والزمامرة وأولمبيك أسفي والماط                                |sport    |\n",
            "|دياز يقود المغرب للفوز على ليسوتو بهدف يتيم                                                |sport    |\n",
            "|بنك المغرب يطلق النسخة الثانية لجائزته للبحث الاقتصادي والمالي                             |economie |\n",
            "|أسعار النفط تسجل أدنى تسوية خلال 7 أسابيع..و”برنت” يهوي إلى أقل من 80 دولاراً              |economie |\n",
            "|الأمم المتحدة تحذر: العالم يتجه إلى “مستقبل قاتم” بسبب النزاعات والقمع والتضليل الإعلامي   |politique|\n",
            "|الأمم المتحدة تحذر من استمرار استخدام الاحتلال “الأساليب المميتة” في الضفة                 |politique|\n",
            "+-------------------------------------------------------------------------------------------+---------+\n",
            "only showing top 20 rows\n",
            "\n"
          ]
        }
      ],
      "source": [
        "import json\n",
        "import random\n",
        "import pandas as pd\n",
        "# reading data\n",
        "\n",
        "with open(\"/home/ouyassine/Documents/projects/data_engineering_1/data/data.json\") as f:\n",
        "     data = json.load(f)\n",
        "\n",
        "random.shuffle(data)\n",
        "\n",
        "with open(\"/home/ouyassine/Documents/projects/data_engineering_1/data/data.json\", 'w') as f:\n",
        "     json.dump(data, f, indent=2)\n",
        "\n",
        "data = pd.read_json(\"/home/ouyassine/Documents/projects/data_engineering_1/data/data.json\")\n",
        "\n",
        "df = spark.createDataFrame(data)\n",
        "df.show(truncate=False)"
      ]
    },
    {
      "cell_type": "code",
      "execution_count": 4,
      "metadata": {
        "colab": {
          "base_uri": "https://localhost:8080/"
        },
        "id": "qNKvbRAEjQlZ",
        "outputId": "13235cdb-99dd-47a4-f7fd-235f34dd7a6a"
      },
      "outputs": [
        {
          "name": "stdout",
          "output_type": "stream",
          "text": [
            "Requirement already satisfied: nltk in /home/ouyassine/Documents/projects/data_engineering_1/venv/lib/python3.12/site-packages (3.9.1)\n",
            "Requirement already satisfied: click in /home/ouyassine/Documents/projects/data_engineering_1/venv/lib/python3.12/site-packages (from nltk) (8.1.7)\n",
            "Requirement already satisfied: joblib in /home/ouyassine/Documents/projects/data_engineering_1/venv/lib/python3.12/site-packages (from nltk) (1.4.2)\n",
            "Requirement already satisfied: regex>=2021.8.3 in /home/ouyassine/Documents/projects/data_engineering_1/venv/lib/python3.12/site-packages (from nltk) (2024.9.11)\n",
            "Requirement already satisfied: tqdm in /home/ouyassine/Documents/projects/data_engineering_1/venv/lib/python3.12/site-packages (from nltk) (4.66.5)\n",
            "Note: you may need to restart the kernel to use updated packages.\n"
          ]
        }
      ],
      "source": [
        "%pip install nltk"
      ]
    },
    {
      "cell_type": "code",
      "execution_count": 5,
      "metadata": {
        "id": "2CIydfRZjp5L"
      },
      "outputs": [],
      "source": [
        "from nltk.corpus import stopwords\n",
        "stopwords_list = stopwords.words('arabic')"
      ]
    },
    {
      "cell_type": "code",
      "execution_count": 6,
      "metadata": {
        "id": "Az-hgXCnJQ4T"
      },
      "outputs": [],
      "source": [
        "from pyspark.ml import Pipeline\n",
        "from pyspark.ml.classification import LogisticRegression\n",
        "from pyspark.ml.feature import Tokenizer, StopWordsRemover, HashingTF, IDF, StringIndexer\n",
        "\n",
        "\n",
        "# Tokenization\n",
        "tokenizer = Tokenizer(inputCol=\"title\", outputCol=\"tokens\")\n",
        "\n",
        "# Remove Arabic stopwords\n",
        "stopwords_remover = StopWordsRemover(inputCol=\"tokens\", outputCol=\"filtered_tokens\", stopWords=stopwords_list)\n",
        "\n",
        "# HashingTF to convert tokens to numerical features\n",
        "hashing_tf = HashingTF(inputCol=\"filtered_tokens\", outputCol=\"raw_features\")\n",
        "\n",
        "# Apply TF-IDF\n",
        "idf = IDF(inputCol=\"raw_features\", outputCol=\"features\")\n",
        "\n",
        "# Convert the label (topic) into numerical index\n",
        "label_indexer = StringIndexer(inputCol=\"topic\", outputCol=\"label\")\n",
        "\n",
        "# 4. Logistic Regression Model\n",
        "lr = LogisticRegression(featuresCol=\"features\", labelCol=\"label\")\n",
        "\n",
        "# 5. Build the pipeline\n",
        "pipeline = Pipeline(stages=[tokenizer, stopwords_remover, hashing_tf, idf, label_indexer, lr])"
      ]
    },
    {
      "cell_type": "code",
      "execution_count": 7,
      "metadata": {
        "id": "1vogux74Kh7D"
      },
      "outputs": [],
      "source": [
        "train_data, test_data = df.randomSplit([0.8, 0.2], seed=42)"
      ]
    },
    {
      "cell_type": "code",
      "execution_count": 8,
      "metadata": {},
      "outputs": [
        {
          "data": {
            "text/plain": [
              "[Row(title='50 ألفا يؤدون صلاة الجمعة فى المسجد الأقصى وسط الإجراءات المشددة للاحتلال', topic='politique'),\n",
              " Row(title='9474 طنا هي كمية مفرغات الصيد الساحلي والتقليدي بالموانئ المغربية المتوسطية حتى متم يوليوز المنصرم', topic='economie'),\n",
              " Row(title='أتالانتا الإيطالي يضم المدافع الدولي “بيلانوفا”', topic='sport'),\n",
              " Row(title='أحرقها صديقها..وفاة العداءة الأولمبية الأوغندية “ريبيكا تشيبتيغي”', topic='sport')]"
            ]
          },
          "execution_count": 8,
          "metadata": {},
          "output_type": "execute_result"
        }
      ],
      "source": [
        "train_data.head(4)"
      ]
    },
    {
      "cell_type": "code",
      "execution_count": 9,
      "metadata": {
        "id": "tYKWvv6IK339"
      },
      "outputs": [
        {
          "name": "stderr",
          "output_type": "stream",
          "text": [
            "24/09/24 13:19:25 WARN DAGScheduler: Broadcasting large task binary with size 4.1 MiB\n",
            "24/09/24 13:19:27 WARN DAGScheduler: Broadcasting large task binary with size 4.1 MiB\n",
            "24/09/24 13:19:28 WARN DAGScheduler: Broadcasting large task binary with size 4.1 MiB\n",
            "[Stage 9:>                                                          (0 + 6) / 6]\r"
          ]
        }
      ],
      "source": [
        "model = pipeline.fit(train_data)"
      ]
    },
    {
      "cell_type": "code",
      "execution_count": 9,
      "metadata": {
        "colab": {
          "base_uri": "https://localhost:8080/"
        },
        "id": "fgcux4twK6yG",
        "outputId": "c89caf9f-5d98-43c3-81b6-598b7a8c9983"
      },
      "outputs": [
        {
          "name": "stderr",
          "output_type": "stream",
          "text": [
            "24/09/15 12:10:22 WARN DAGScheduler: Broadcasting large task binary with size 4.2 MiB\n",
            "[Stage 102:>                                                        (0 + 6) / 6]\r"
          ]
        },
        {
          "name": "stdout",
          "output_type": "stream",
          "text": [
            "Test Accuracy: 0.8520408163265306\n"
          ]
        },
        {
          "name": "stderr",
          "output_type": "stream",
          "text": [
            "                                                                                \r"
          ]
        }
      ],
      "source": [
        "predictions = model.transform(test_data)\n",
        "\n",
        "from pyspark.ml.evaluation import MulticlassClassificationEvaluator\n",
        "evaluator = MulticlassClassificationEvaluator(labelCol=\"label\", predictionCol=\"prediction\", metricName=\"accuracy\")\n",
        "accuracy = evaluator.evaluate(predictions)\n",
        "\n",
        "print(f\"Test Accuracy: {accuracy}\")"
      ]
    },
    {
      "cell_type": "code",
      "execution_count": 10,
      "metadata": {
        "id": "ALDmKP_WLAWd"
      },
      "outputs": [
        {
          "name": "stderr",
          "output_type": "stream",
          "text": [
            "24/09/15 12:10:28 WARN TaskSetManager: Stage 109 contains a task of very large size (4203 KiB). The maximum recommended task size is 1000 KiB.\n",
            "                                                                                \r"
          ]
        }
      ],
      "source": [
        "model.write().overwrite().save(\"model\")\n"
      ]
    },
    {
      "cell_type": "code",
      "execution_count": 11,
      "metadata": {
        "colab": {
          "base_uri": "https://localhost:8080/"
        },
        "id": "n54Qu2nBPbZM",
        "outputId": "317a02b0-8d73-46d8-98be-b891faf55c22"
      },
      "outputs": [
        {
          "name": "stderr",
          "output_type": "stream",
          "text": [
            "24/09/15 12:10:35 WARN DAGScheduler: Broadcasting large task binary with size 4.1 MiB\n"
          ]
        },
        {
          "name": "stdout",
          "output_type": "stream",
          "text": [
            "+--------------------------------------------------------------------------------------------------+---------+----------+\n",
            "|title                                                                                             |topic    |prediction|\n",
            "+--------------------------------------------------------------------------------------------------+---------+----------+\n",
            "|38 رياضيا يمثلون المغرب في منافسات الألعاب البارالمبية “باريس 2024”                               |sport    |1.0       |\n",
            "|9474 طنا هي كمية مفرغات الصيد الساحلي والتقليدي بالموانئ المغربية المتوسطية حتى متم يوليوز المنصرم|economie |2.0       |\n",
            "|أحرقها صديقها..وفاة العداءة الأولمبية الأوغندية “ريبيكا تشيبتيغي”                                 |sport    |1.0       |\n",
            "|أسود الأطلس يفتتحون تصفيات “الكان” بانتصار ساحق على الغابون                                       |sport    |1.0       |\n",
            "|أمن “أولاد تايمة”يطلق رصاصة تحذيرية لتوقيف شخص هاجم الشرطة والمواطنين بأداة حادة                  |divers   |0.0       |\n",
            "|أولمبياد غزة                                                                                      |politique|3.0       |\n",
            "|إدارية العاصمة تعزل رئيس بلدية القنيطرة واثنين من نوابه                                           |economie |3.0       |\n",
            "|إدارية العاصمة تعزل رئيس بلدية القنيطرة واثنين من نوابه                                           |sport    |3.0       |\n",
            "|اجتماع لبحث آفاق التعاون بين “الإيسيسكو” وصندوق التراث العالمي الإفريقي بالرباط                   |politique|3.0       |\n",
            "|اجتماعات عمل رفيعة المستوى حول مشروع أنبوب الغاز بين نيجيريا والمغرب                              |economie |2.0       |\n",
            "|ارتفاع أسعار النفط 3 بالمئة جراء مخاوف التصعيد بالشرق الأوسط                                      |economie |2.0       |\n",
            "|ارتفاع أسعار النفط وسط انخفاض حاد في مخزونات الخام الأمريكية                                      |economie |2.0       |\n",
            "|استقرار الدولار بفعل بيانات التضخم الأميركية                                                      |economie |2.0       |\n",
            "|الأمم المتحدة تحذر من استمرار استخدام الاحتلال “الأساليب المميتة” في الضفة                        |politique|3.0       |\n",
            "|التوفيق: خصوصية تدبير الشأن الديني في المغرب لا تتنافى مع مساءلة وزير الأوقاف أمام البرلمان       |politique|3.0       |\n",
            "|الجيش يواجه المريخ السوداني في الدور التمهيدي الثاني لدوري أبطال أفريقيا                          |sport    |1.0       |\n",
            "|الدار البيضاء..توقيف 3 أشخاص من أجل إلحاق خسائر مادية بسيارات مستوقفة بالشارع العام               |divers   |0.0       |\n",
            "|الريش..توقيف “شاب متطرف” كان يعتزم تنفيذ مخططات إرهابية                                           |politique|0.0       |\n",
            "|العفو على المعتقلين من أجل زراعة القنب الهندي بمناسبة ذكرى ثورة الملك والشعب                      |politique|3.0       |\n",
            "|الغلوسي يحذر من انقلاب لوبي الإثراء غير المشروع وتبييض الأموال على الدستور                        |politique|3.0       |\n",
            "+--------------------------------------------------------------------------------------------------+---------+----------+\n",
            "only showing top 20 rows\n",
            "\n"
          ]
        }
      ],
      "source": [
        "predictions.select(\"title\", \"topic\", \"prediction\").show(truncate=False)"
      ]
    },
    {
      "cell_type": "code",
      "execution_count": null,
      "metadata": {},
      "outputs": [],
      "source": []
    }
  ],
  "metadata": {
    "colab": {
      "provenance": []
    },
    "kernelspec": {
      "display_name": "venv",
      "language": "python",
      "name": "python3"
    },
    "language_info": {
      "codemirror_mode": {
        "name": "ipython",
        "version": 3
      },
      "file_extension": ".py",
      "mimetype": "text/x-python",
      "name": "python",
      "nbconvert_exporter": "python",
      "pygments_lexer": "ipython3",
      "version": "3.12.3"
    }
  },
  "nbformat": 4,
  "nbformat_minor": 0
}
