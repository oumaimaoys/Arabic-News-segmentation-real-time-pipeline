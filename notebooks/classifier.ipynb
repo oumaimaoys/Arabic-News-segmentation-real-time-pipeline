{
  "cells": [
    {
      "cell_type": "code",
      "execution_count": 1,
      "metadata": {
        "colab": {
          "base_uri": "https://localhost:8080/"
        },
        "id": "SGbX8AGPADly",
        "outputId": "d0e96e28-7e20-466b-d352-61bab717cb8a"
      },
      "outputs": [
        {
          "name": "stdout",
          "output_type": "stream",
          "text": [
            "Requirement already satisfied: pyspark in /usr/local/lib/python3.10/dist-packages (3.5.2)\n",
            "Requirement already satisfied: py4j==0.10.9.7 in /usr/local/lib/python3.10/dist-packages (from pyspark) (0.10.9.7)\n",
            "Requirement already satisfied: spark-nlp in /usr/local/lib/python3.10/dist-packages (5.4.2)\n",
            "Requirement already satisfied: nltk in /usr/local/lib/python3.10/dist-packages (3.8.1)\n",
            "Requirement already satisfied: click in /usr/local/lib/python3.10/dist-packages (from nltk) (8.1.7)\n",
            "Requirement already satisfied: joblib in /usr/local/lib/python3.10/dist-packages (from nltk) (1.4.2)\n",
            "Requirement already satisfied: regex>=2021.8.3 in /usr/local/lib/python3.10/dist-packages (from nltk) (2024.5.15)\n",
            "Requirement already satisfied: tqdm in /usr/local/lib/python3.10/dist-packages (from nltk) (4.66.5)\n"
          ]
        }
      ],
      "source": [
        "!pip install pyspark\n",
        "!pip install spark-nlp\n",
        "!pip install nltk"
      ]
    },
    {
      "cell_type": "code",
      "execution_count": 2,
      "metadata": {
        "id": "V0_63y5xI8hn"
      },
      "outputs": [],
      "source": [
        "import sparknlp\n",
        "from pyspark.sql import SparkSession\n",
        "\n",
        "# Check if a SparkSession is already active\n",
        "if 'spark' not in globals() or not isinstance(spark, SparkSession):\n",
        "    # start the spark nlp session\n",
        "    spark = sparknlp.start()\n",
        "else:\n",
        "    print(\"SparkSession is already active.\")"
      ]
    },
    {
      "cell_type": "code",
      "execution_count": 3,
      "metadata": {
        "colab": {
          "base_uri": "https://localhost:8080/"
        },
        "id": "t1oCuHlmJNQn",
        "outputId": "b99af682-d331-4947-a56e-94eaaeb97a1b"
      },
      "outputs": [
        {
          "name": "stdout",
          "output_type": "stream",
          "text": [
            "+------------------------------------------------------------------------------------+---------+\n",
            "|title                                                                               |topic    |\n",
            "+------------------------------------------------------------------------------------+---------+\n",
            "|توقيف مبحوث عنها وطنيا من أجل النصب والاحتيال في إطار التسوق الهرمي                 |divers   |\n",
            "|تنسيق أمني يطيح بمغتصب قاصر احتجزها بالعنف بالدار البيضاء                           |politique|\n",
            "|حزب النهج بالرباط يدعو للتصدي للسياسات الطبقية المعادية للعمال وعموم الفئات الشعبية |politique|\n",
            "|تنسيقي استخبارات أمني يطيح بتاجر للأقراص المهلوسة بالقنيطرة                         |divers   |\n",
            "|الحداوي يهدي المغرب الذهبية الثانية في دورة الألعاب البارالمبية بباريس              |sport    |\n",
            "|تنسيق أمني يطيح بمغتصب قاصر احتجزها بالعنف بالدار البيضاء                           |divers   |\n",
            "|الاحتلال الإسرائيلي يعلن توقف عملياته في قطاع غزة بشكل عام                          |politique|\n",
            "|القبض على شخصين من أجل الاتجار في الأقراص المهلوسة بالرباط                          |sport    |\n",
            "|طنجة-تطوان..توقيف 60 شخصا من أجل التحريض على تنظيم عمليات جماعية للهجرة غير المشروعة|politique|\n",
            "|فيديو..حريق مهول بأكبر سوق لبيع الملابس المستعملة بالقنيطرة                         |divers   |\n",
            "|الماص يهزم الوداد بهدف قاتل                                                         |sport    |\n",
            "|النفط يستقر عند 76.36 دولار للبرميل وسط مخاوف بشأن الطلب العالمي                    |economie |\n",
            "|المغرب في الصدارة كأكبر منتج للسيارات في شمال أفريقيا عام 2024                      |economie |\n",
            "|الرباط..توقيف عوني سلطة لتورطهما في تزوير شواهد السكنى                              |divers   |\n",
            "|القبض على شخصين من أجل الاتجار في الأقراص المهلوسة بالرباط                          |politique|\n",
            "|طنجة-تطوان..توقيف 60 شخصا من أجل التحريض على تنظيم عمليات جماعية للهجرة غير المشروعة|politique|\n",
            "|فرنسا تعتمد الخريطة الكاملة للمغرب في مقرراتها المدرسية                             |politique|\n",
            "|برايتون يضم المهاجم الفرنسي “روتر” في صفقة قياسية                                   |sport    |\n",
            "|توقيف مبحوث عنها وطنيا من أجل النصب والاحتيال في إطار التسوق الهرمي                 |divers   |\n",
            "|إدارية العاصمة تعزل رئيس بلدية القنيطرة واثنين من نوابه                             |politique|\n",
            "+------------------------------------------------------------------------------------+---------+\n",
            "only showing top 20 rows\n",
            "\n"
          ]
        }
      ],
      "source": [
        "import json\n",
        "import random\n",
        "import pandas as pd\n",
        "# reading data\n",
        "\n",
        "with open(\"/home/ouyassine/Documents/projects/data_engineering_1/data/data.json\") as f:\n",
        "     data = json.load(f)\n",
        "\n",
        "random.shuffle(data)\n",
        "\n",
        "with open(\"/home/ouyassine/Documents/projects/data_engineering_1/data/data.json\", 'w') as f:\n",
        "     json.dump(data, f, indent=2)\n",
        "\n",
        "data = pd.read_json(\"/home/ouyassine/Documents/projects/data_engineering_1/data/data.json\")\n",
        "\n",
        "df = spark.createDataFrame(data)\n",
        "df.show(truncate=False)"
      ]
    },
    {
      "cell_type": "code",
      "execution_count": 28,
      "metadata": {
        "colab": {
          "base_uri": "https://localhost:8080/"
        },
        "id": "qNKvbRAEjQlZ",
        "outputId": "13235cdb-99dd-47a4-f7fd-235f34dd7a6a"
      },
      "outputs": [
        {
          "name": "stdout",
          "output_type": "stream",
          "text": [
            "Requirement already satisfied: nltk in /usr/local/lib/python3.10/dist-packages (3.8.1)\n",
            "Requirement already satisfied: click in /usr/local/lib/python3.10/dist-packages (from nltk) (8.1.7)\n",
            "Requirement already satisfied: joblib in /usr/local/lib/python3.10/dist-packages (from nltk) (1.4.2)\n",
            "Requirement already satisfied: regex>=2021.8.3 in /usr/local/lib/python3.10/dist-packages (from nltk) (2024.5.15)\n",
            "Requirement already satisfied: tqdm in /usr/local/lib/python3.10/dist-packages (from nltk) (4.66.5)\n"
          ]
        }
      ],
      "source": [
        "!pip install nltk"
      ]
    },
    {
      "cell_type": "code",
      "execution_count": 30,
      "metadata": {
        "id": "2CIydfRZjp5L"
      },
      "outputs": [],
      "source": [
        "from nltk.corpus import stopwords\n",
        "stopwords_list = stopwords.words('arabic')"
      ]
    },
    {
      "cell_type": "code",
      "execution_count": 31,
      "metadata": {
        "id": "Az-hgXCnJQ4T"
      },
      "outputs": [],
      "source": [
        "from pyspark.ml import Pipeline\n",
        "from pyspark.ml.classification import LogisticRegression\n",
        "from pyspark.ml.feature import Tokenizer, StopWordsRemover, HashingTF, IDF, StringIndexer\n",
        "\n",
        "\n",
        "# Tokenization\n",
        "tokenizer = Tokenizer(inputCol=\"title\", outputCol=\"tokens\")\n",
        "\n",
        "# Remove Arabic stopwords\n",
        "stopwords_remover = StopWordsRemover(inputCol=\"tokens\", outputCol=\"filtered_tokens\", stopWords=stopwords_list)\n",
        "\n",
        "# HashingTF to convert tokens to numerical features\n",
        "hashing_tf = HashingTF(inputCol=\"filtered_tokens\", outputCol=\"raw_features\")\n",
        "\n",
        "# Apply TF-IDF\n",
        "idf = IDF(inputCol=\"raw_features\", outputCol=\"features\")\n",
        "\n",
        "# Convert the label (topic) into numerical index\n",
        "label_indexer = StringIndexer(inputCol=\"topic\", outputCol=\"label\")\n",
        "\n",
        "# 4. Logistic Regression Model\n",
        "lr = LogisticRegression(featuresCol=\"features\", labelCol=\"label\")\n",
        "\n",
        "# 5. Build the pipeline\n",
        "pipeline = Pipeline(stages=[tokenizer, stopwords_remover, hashing_tf, idf, label_indexer, lr])"
      ]
    },
    {
      "cell_type": "code",
      "execution_count": 32,
      "metadata": {
        "id": "1vogux74Kh7D"
      },
      "outputs": [],
      "source": [
        "train_data, test_data = df.randomSplit([0.8, 0.2], seed=42)"
      ]
    },
    {
      "cell_type": "code",
      "execution_count": 33,
      "metadata": {
        "id": "tYKWvv6IK339"
      },
      "outputs": [],
      "source": [
        "model = pipeline.fit(train_data)"
      ]
    },
    {
      "cell_type": "code",
      "execution_count": 38,
      "metadata": {
        "colab": {
          "base_uri": "https://localhost:8080/"
        },
        "id": "fgcux4twK6yG",
        "outputId": "c89caf9f-5d98-43c3-81b6-598b7a8c9983"
      },
      "outputs": [
        {
          "name": "stdout",
          "output_type": "stream",
          "text": [
            "Test Accuracy: 0.8798882681564246\n"
          ]
        }
      ],
      "source": [
        "predictions = model.transform(test_data)\n",
        "\n",
        "from pyspark.ml.evaluation import MulticlassClassificationEvaluator\n",
        "evaluator = MulticlassClassificationEvaluator(labelCol=\"label\", predictionCol=\"prediction\", metricName=\"accuracy\")\n",
        "accuracy = evaluator.evaluate(predictions)\n",
        "\n",
        "print(f\"Test Accuracy: {accuracy}\")"
      ]
    },
    {
      "cell_type": "code",
      "execution_count": 39,
      "metadata": {
        "id": "ALDmKP_WLAWd"
      },
      "outputs": [],
      "source": [
        "model.write().overwrite().save(\"path_to_save_model\")\n"
      ]
    },
    {
      "cell_type": "code",
      "execution_count": 37,
      "metadata": {
        "colab": {
          "base_uri": "https://localhost:8080/"
        },
        "id": "n54Qu2nBPbZM",
        "outputId": "317a02b0-8d73-46d8-98be-b891faf55c22"
      },
      "outputs": [
        {
          "name": "stdout",
          "output_type": "stream",
          "text": [
            "+----------------------------------------------------------------------------------------------------+---------+----------+\n",
            "|title                                                                                               |topic    |prediction|\n",
            "+----------------------------------------------------------------------------------------------------+---------+----------+\n",
            "|120 مليون أورو من البنك الإفريقي للتنمية لمشروع لبناء منطقة صناعية بميناء الناظور الجديد            |economie |0.0       |\n",
            "|50 ألفا يؤدون صلاة الجمعة فى المسجد الأقصى وسط الإجراءات المشددة للاحتلال                           |politique|1.0       |\n",
            "|9474 طنا هي كمية مفرغات الصيد الساحلي والتقليدي بالموانئ المغربية المتوسطية حتى متم يوليوز المنصرم  |economie |0.0       |\n",
            "|9474 طنا هي كمية مفرغات الصيد الساحلي والتقليدي بالموانئ المغربية المتوسطية حتى متم يوليوز المنصرم  |economie |0.0       |\n",
            "|أحرقها صديقها..وفاة العداءة الأولمبية الأوغندية “ريبيكا تشيبتيغي”                                   |sport    |2.0       |\n",
            "|أحرقها صديقها..وفاة العداءة الأولمبية الأوغندية “ريبيكا تشيبتيغي”                                   |sport    |2.0       |\n",
            "|أسعار النفط تتجه لتسجيل رابع انخفاض أسبوعي مع تزايد المخاوف بشأن الطلب                              |economie |0.0       |\n",
            "|أسعار النفط تسجل أدنى تسوية خلال 7 أسابيع..و”برنت” يهوي إلى أقل من 80 دولاراً                       |economie |0.0       |\n",
            "|أسعار صرف العملات الأجنبية مقابل الدرهم المغربي اليوم الإثنين                                       |economie |0.0       |\n",
            "|أسود الأطلس يفتتحون تصفيات “الكان” بانتصار ساحق على الغابون                                         |sport    |2.0       |\n",
            "|أسود الأطلس يفتتحون تصفيات “الكان” بانتصار ساحق على الغابون                                         |sport    |2.0       |\n",
            "|أسود الأطلس يفتتحون تصفيات “الكان” بانتصار ساحق على الغابون                                         |sport    |2.0       |\n",
            "|أكادير..توقيف مخمور تسبب بسيارة مسروقة في حادثة سير مميتة لثلاثة أشخاص                              |divers   |3.0       |\n",
            "|أمن البيضاء ينفي عدم قيام مصالحه بالبحث في حادثة تخريب سيارتين بحي “دار الأمان”                     |divers   |3.0       |\n",
            "|أمن “أولاد تايمة”يطلق رصاصة تحذيرية لتوقيف شخص هاجم الشرطة والمواطنين بأداة حادة                    |divers   |3.0       |\n",
            "|أولمبياد غزة                                                                                        |politique|1.0       |\n",
            "|إدارية العاصمة تعزل رئيس بلدية القنيطرة واثنين من نوابه                                             |economie |1.0       |\n",
            "|إعلان الرباط: وقف العدوان الإسرائيلي ينبغي أن يشكل مدخلا للتسوية النهائية والعادلة للقضية الفلسطينية|politique|1.0       |\n",
            "|اتفاقية أممية جديدة لمكافحة الجرائم السيبرانية                                                      |divers   |3.0       |\n",
            "|اجتماع المجلس الاقتصادي والاجتماعي على المستوى الوزاري يعتمد مشاريع قرارات تقدم بها المغرب          |politique|1.0       |\n",
            "+----------------------------------------------------------------------------------------------------+---------+----------+\n",
            "only showing top 20 rows\n",
            "\n"
          ]
        }
      ],
      "source": [
        "predictions.select(\"title\", \"topic\", \"prediction\").show(truncate=False)"
      ]
    }
  ],
  "metadata": {
    "colab": {
      "provenance": []
    },
    "kernelspec": {
      "display_name": "Python 3",
      "name": "python3"
    },
    "language_info": {
      "name": "python"
    }
  },
  "nbformat": 4,
  "nbformat_minor": 0
}
